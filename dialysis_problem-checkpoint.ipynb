{
 "cells": [
  {
   "cell_type": "code",
   "execution_count": 1,
   "id": "1b70b2b0",
   "metadata": {},
   "outputs": [],
   "source": [
    "import pandas\n",
    "import numpy\n",
    "import pandas as pd\n",
    "import numpy as np\n",
    "import matplotlib.pyplot as mtp"
   ]
  },
  {
   "cell_type": "code",
   "execution_count": 2,
   "id": "ffd9ca00",
   "metadata": {},
   "outputs": [
    {
     "name": "stdout",
     "output_type": "stream",
     "text": [
      "Setup Complete\n"
     ]
    }
   ],
   "source": [
    "data1=pd.read_csv('C:/Users/sayal/Downloads/Dialysis_data.csv')\n",
    "data1.columns\n",
    "data1.dropna(axis=0)\n",
    "data1['sbp'] = pd.to_numeric(data1['sbp'],errors = 'coerce')\n",
    "data1['dbp'] = pd.to_numeric(data1['dbp'],errors = 'coerce')\n",
    "data1['uf'] = pd.to_numeric(data1['uf'],errors = 'coerce')\n",
    "data1['conductivity'] = pd.to_numeric(data1['conductivity'],errors = 'coerce')\n",
    "print(\"Setup Complete\")"
   ]
  },
  {
   "cell_type": "code",
   "execution_count": null,
   "id": "4ed6e4bf",
   "metadata": {},
   "outputs": [],
   "source": [
    "data1.size()"
   ]
  },
  {
   "cell_type": "code",
   "execution_count": 3,
   "id": "64db2097",
   "metadata": {},
   "outputs": [],
   "source": [
    "data1=data1.dropna(axis=0)"
   ]
  },
  {
   "cell_type": "code",
   "execution_count": 4,
   "id": "1447b78d",
   "metadata": {},
   "outputs": [
    {
     "name": "stdout",
     "output_type": "stream",
     "text": [
      "True\n",
      "              pid    sbp   dbp   uf  conductivity\n",
      "70     26172507.0  128.0  71.0  7.1         141.0\n",
      "85     43698497.0  109.0  58.0  5.8         140.0\n",
      "95      8688364.0  152.0  81.0  8.1         140.0\n",
      "272     8618241.0   80.0  40.0  4.0         145.0\n",
      "282    29680538.0  101.0  51.0  5.1         145.0\n",
      "...           ...    ...   ...  ...           ...\n",
      "18512  13287241.0  154.0  81.0  8.1         140.0\n",
      "18513   4141691.0  154.0  81.0  8.1         140.0\n",
      "18591  36573047.0  113.0  67.0  6.7         139.0\n",
      "18638  16319887.0  110.0  47.0  4.7         140.0\n",
      "18673   6283946.0  124.0  60.0  6.0         143.0\n",
      "\n",
      "[156 rows x 5 columns]\n"
     ]
    }
   ],
   "source": [
    "dups = data1.duplicated()\n",
    "print(dups.any())\n",
    "print(data1[dups])"
   ]
  },
  {
   "cell_type": "code",
   "execution_count": 5,
   "id": "d3056876",
   "metadata": {},
   "outputs": [
    {
     "name": "stdout",
     "output_type": "stream",
     "text": [
      "(18071, 5)\n"
     ]
    },
    {
     "data": {
      "text/html": [
       "<div>\n",
       "<style scoped>\n",
       "    .dataframe tbody tr th:only-of-type {\n",
       "        vertical-align: middle;\n",
       "    }\n",
       "\n",
       "    .dataframe tbody tr th {\n",
       "        vertical-align: top;\n",
       "    }\n",
       "\n",
       "    .dataframe thead th {\n",
       "        text-align: right;\n",
       "    }\n",
       "</style>\n",
       "<table border=\"1\" class=\"dataframe\">\n",
       "  <thead>\n",
       "    <tr style=\"text-align: right;\">\n",
       "      <th></th>\n",
       "      <th>pid</th>\n",
       "      <th>sbp</th>\n",
       "      <th>dbp</th>\n",
       "      <th>uf</th>\n",
       "      <th>conductivity</th>\n",
       "    </tr>\n",
       "  </thead>\n",
       "  <tbody>\n",
       "    <tr>\n",
       "      <th>0</th>\n",
       "      <td>20782271.0</td>\n",
       "      <td>147.0</td>\n",
       "      <td>78.0</td>\n",
       "      <td>7.8</td>\n",
       "      <td>143.0</td>\n",
       "    </tr>\n",
       "    <tr>\n",
       "      <th>1</th>\n",
       "      <td>2254460.0</td>\n",
       "      <td>126.0</td>\n",
       "      <td>79.0</td>\n",
       "      <td>7.9</td>\n",
       "      <td>143.0</td>\n",
       "    </tr>\n",
       "    <tr>\n",
       "      <th>2</th>\n",
       "      <td>8008815.0</td>\n",
       "      <td>150.0</td>\n",
       "      <td>76.0</td>\n",
       "      <td>7.6</td>\n",
       "      <td>140.0</td>\n",
       "    </tr>\n",
       "    <tr>\n",
       "      <th>3</th>\n",
       "      <td>6899774.0</td>\n",
       "      <td>130.0</td>\n",
       "      <td>71.0</td>\n",
       "      <td>7.1</td>\n",
       "      <td>143.0</td>\n",
       "    </tr>\n",
       "    <tr>\n",
       "      <th>4</th>\n",
       "      <td>11003705.0</td>\n",
       "      <td>166.0</td>\n",
       "      <td>72.0</td>\n",
       "      <td>7.2</td>\n",
       "      <td>140.0</td>\n",
       "    </tr>\n",
       "  </tbody>\n",
       "</table>\n",
       "</div>"
      ],
      "text/plain": [
       "          pid    sbp   dbp   uf  conductivity\n",
       "0  20782271.0  147.0  78.0  7.8         143.0\n",
       "1   2254460.0  126.0  79.0  7.9         143.0\n",
       "2   8008815.0  150.0  76.0  7.6         140.0\n",
       "3   6899774.0  130.0  71.0  7.1         143.0\n",
       "4  11003705.0  166.0  72.0  7.2         140.0"
      ]
     },
     "execution_count": 5,
     "metadata": {},
     "output_type": "execute_result"
    }
   ],
   "source": [
    "data1.drop_duplicates(inplace=True)\n",
    "print(data1.shape)\n",
    "data1.head()"
   ]
  },
  {
   "cell_type": "code",
   "execution_count": 6,
   "id": "15a93e08",
   "metadata": {},
   "outputs": [
    {
     "data": {
      "text/plain": [
       "pid             0\n",
       "sbp             0\n",
       "dbp             0\n",
       "uf              0\n",
       "conductivity    0\n",
       "dtype: int64"
      ]
     },
     "execution_count": 6,
     "metadata": {},
     "output_type": "execute_result"
    }
   ],
   "source": [
    "data1.isnull().sum()"
   ]
  },
  {
   "cell_type": "code",
   "execution_count": 7,
   "id": "54c1495b",
   "metadata": {},
   "outputs": [
    {
     "data": {
      "text/html": [
       "<div>\n",
       "<style scoped>\n",
       "    .dataframe tbody tr th:only-of-type {\n",
       "        vertical-align: middle;\n",
       "    }\n",
       "\n",
       "    .dataframe tbody tr th {\n",
       "        vertical-align: top;\n",
       "    }\n",
       "\n",
       "    .dataframe thead th {\n",
       "        text-align: right;\n",
       "    }\n",
       "</style>\n",
       "<table border=\"1\" class=\"dataframe\">\n",
       "  <thead>\n",
       "    <tr style=\"text-align: right;\">\n",
       "      <th></th>\n",
       "      <th>pid</th>\n",
       "      <th>sbp</th>\n",
       "      <th>dbp</th>\n",
       "      <th>uf</th>\n",
       "      <th>conductivity</th>\n",
       "      <th>cond1</th>\n",
       "      <th>cond2</th>\n",
       "      <th>cond3</th>\n",
       "      <th>cond4</th>\n",
       "    </tr>\n",
       "  </thead>\n",
       "  <tbody>\n",
       "    <tr>\n",
       "      <th>0</th>\n",
       "      <td>20782271.0</td>\n",
       "      <td>147.0</td>\n",
       "      <td>78.0</td>\n",
       "      <td>7.8</td>\n",
       "      <td>143.0</td>\n",
       "      <td>2</td>\n",
       "      <td>1</td>\n",
       "      <td>1</td>\n",
       "      <td>1</td>\n",
       "    </tr>\n",
       "    <tr>\n",
       "      <th>1</th>\n",
       "      <td>2254460.0</td>\n",
       "      <td>126.0</td>\n",
       "      <td>79.0</td>\n",
       "      <td>7.9</td>\n",
       "      <td>143.0</td>\n",
       "      <td>1</td>\n",
       "      <td>1</td>\n",
       "      <td>1</td>\n",
       "      <td>1</td>\n",
       "    </tr>\n",
       "    <tr>\n",
       "      <th>2</th>\n",
       "      <td>8008815.0</td>\n",
       "      <td>150.0</td>\n",
       "      <td>76.0</td>\n",
       "      <td>7.6</td>\n",
       "      <td>140.0</td>\n",
       "      <td>2</td>\n",
       "      <td>1</td>\n",
       "      <td>1</td>\n",
       "      <td>1</td>\n",
       "    </tr>\n",
       "    <tr>\n",
       "      <th>3</th>\n",
       "      <td>6899774.0</td>\n",
       "      <td>130.0</td>\n",
       "      <td>71.0</td>\n",
       "      <td>7.1</td>\n",
       "      <td>143.0</td>\n",
       "      <td>1</td>\n",
       "      <td>1</td>\n",
       "      <td>1</td>\n",
       "      <td>1</td>\n",
       "    </tr>\n",
       "    <tr>\n",
       "      <th>4</th>\n",
       "      <td>11003705.0</td>\n",
       "      <td>166.0</td>\n",
       "      <td>72.0</td>\n",
       "      <td>7.2</td>\n",
       "      <td>140.0</td>\n",
       "      <td>0</td>\n",
       "      <td>1</td>\n",
       "      <td>1</td>\n",
       "      <td>1</td>\n",
       "    </tr>\n",
       "  </tbody>\n",
       "</table>\n",
       "</div>"
      ],
      "text/plain": [
       "          pid    sbp   dbp   uf  conductivity  cond1  cond2  cond3  cond4\n",
       "0  20782271.0  147.0  78.0  7.8         143.0      2      1      1      1\n",
       "1   2254460.0  126.0  79.0  7.9         143.0      1      1      1      1\n",
       "2   8008815.0  150.0  76.0  7.6         140.0      2      1      1      1\n",
       "3   6899774.0  130.0  71.0  7.1         143.0      1      1      1      1\n",
       "4  11003705.0  166.0  72.0  7.2         140.0      0      1      1      1"
      ]
     },
     "execution_count": 7,
     "metadata": {},
     "output_type": "execute_result"
    }
   ],
   "source": [
    "def sbpcondition(k):\n",
    "     if k>=70 and k<=140:\n",
    "        return 1\n",
    "     elif (k>70 and k<=90) or (k>140 and k<=160):\n",
    "        return 2\n",
    "     else:\n",
    "        return 0\n",
    "\n",
    "def dbpcondition(k):\n",
    "    if k>=70 and k<=140:\n",
    "        return 1\n",
    "    elif (k>70 and k<=90) or (k>140 and k<=160):\n",
    "        return 2\n",
    "    else:\n",
    "        return 0\n",
    "\n",
    "def ufcondition(k):\n",
    "    if k>=6 and k<=10:\n",
    "        return 1\n",
    "    elif (k>=5 and k<6) or (k>10 and k<13):\n",
    "        return 2\n",
    "    else:\n",
    "        return 0\n",
    "\n",
    "def conductivity_condition(k):\n",
    "    if k>=135 and k<=145:\n",
    "        return 1\n",
    "    elif(k>145 and k<=150) or (k<135 and k>=130):\n",
    "        return 2\n",
    "    else:\n",
    "        return 0\n",
    "\n",
    "data1['cond1'] = data1['sbp'].map(sbpcondition)\n",
    "data1['cond2'] = data1['dbp'].map(dbpcondition)\n",
    "data1['cond3'] = data1['uf'].map(ufcondition)\n",
    "data1['cond4'] = data1['conductivity'].map(conductivity_condition)\n",
    "\n",
    "data1.head()"
   ]
  },
  {
   "cell_type": "code",
   "execution_count": 8,
   "id": "d278bca2",
   "metadata": {},
   "outputs": [
    {
     "data": {
      "text/html": [
       "<div>\n",
       "<style scoped>\n",
       "    .dataframe tbody tr th:only-of-type {\n",
       "        vertical-align: middle;\n",
       "    }\n",
       "\n",
       "    .dataframe tbody tr th {\n",
       "        vertical-align: top;\n",
       "    }\n",
       "\n",
       "    .dataframe thead th {\n",
       "        text-align: right;\n",
       "    }\n",
       "</style>\n",
       "<table border=\"1\" class=\"dataframe\">\n",
       "  <thead>\n",
       "    <tr style=\"text-align: right;\">\n",
       "      <th></th>\n",
       "      <th>pid</th>\n",
       "      <th>sbp</th>\n",
       "      <th>dbp</th>\n",
       "      <th>uf</th>\n",
       "      <th>conductivity</th>\n",
       "      <th>cond1</th>\n",
       "      <th>cond2</th>\n",
       "      <th>cond3</th>\n",
       "      <th>cond4</th>\n",
       "      <th>Label1</th>\n",
       "      <th>Label</th>\n",
       "    </tr>\n",
       "  </thead>\n",
       "  <tbody>\n",
       "    <tr>\n",
       "      <th>0</th>\n",
       "      <td>20782271.0</td>\n",
       "      <td>147.0</td>\n",
       "      <td>78.0</td>\n",
       "      <td>7.8</td>\n",
       "      <td>143.0</td>\n",
       "      <td>2</td>\n",
       "      <td>1</td>\n",
       "      <td>1</td>\n",
       "      <td>1</td>\n",
       "      <td>2</td>\n",
       "      <td>Amber</td>\n",
       "    </tr>\n",
       "    <tr>\n",
       "      <th>1</th>\n",
       "      <td>2254460.0</td>\n",
       "      <td>126.0</td>\n",
       "      <td>79.0</td>\n",
       "      <td>7.9</td>\n",
       "      <td>143.0</td>\n",
       "      <td>1</td>\n",
       "      <td>1</td>\n",
       "      <td>1</td>\n",
       "      <td>1</td>\n",
       "      <td>1</td>\n",
       "      <td>Green</td>\n",
       "    </tr>\n",
       "    <tr>\n",
       "      <th>2</th>\n",
       "      <td>8008815.0</td>\n",
       "      <td>150.0</td>\n",
       "      <td>76.0</td>\n",
       "      <td>7.6</td>\n",
       "      <td>140.0</td>\n",
       "      <td>2</td>\n",
       "      <td>1</td>\n",
       "      <td>1</td>\n",
       "      <td>1</td>\n",
       "      <td>2</td>\n",
       "      <td>Amber</td>\n",
       "    </tr>\n",
       "    <tr>\n",
       "      <th>3</th>\n",
       "      <td>6899774.0</td>\n",
       "      <td>130.0</td>\n",
       "      <td>71.0</td>\n",
       "      <td>7.1</td>\n",
       "      <td>143.0</td>\n",
       "      <td>1</td>\n",
       "      <td>1</td>\n",
       "      <td>1</td>\n",
       "      <td>1</td>\n",
       "      <td>1</td>\n",
       "      <td>Green</td>\n",
       "    </tr>\n",
       "    <tr>\n",
       "      <th>4</th>\n",
       "      <td>11003705.0</td>\n",
       "      <td>166.0</td>\n",
       "      <td>72.0</td>\n",
       "      <td>7.2</td>\n",
       "      <td>140.0</td>\n",
       "      <td>0</td>\n",
       "      <td>1</td>\n",
       "      <td>1</td>\n",
       "      <td>1</td>\n",
       "      <td>0</td>\n",
       "      <td>Red</td>\n",
       "    </tr>\n",
       "  </tbody>\n",
       "</table>\n",
       "</div>"
      ],
      "text/plain": [
       "          pid    sbp   dbp   uf  conductivity  cond1  cond2  cond3  cond4  \\\n",
       "0  20782271.0  147.0  78.0  7.8         143.0      2      1      1      1   \n",
       "1   2254460.0  126.0  79.0  7.9         143.0      1      1      1      1   \n",
       "2   8008815.0  150.0  76.0  7.6         140.0      2      1      1      1   \n",
       "3   6899774.0  130.0  71.0  7.1         143.0      1      1      1      1   \n",
       "4  11003705.0  166.0  72.0  7.2         140.0      0      1      1      1   \n",
       "\n",
       "   Label1  Label  \n",
       "0       2  Amber  \n",
       "1       1  Green  \n",
       "2       2  Amber  \n",
       "3       1  Green  \n",
       "4       0    Red  "
      ]
     },
     "execution_count": 8,
     "metadata": {},
     "output_type": "execute_result"
    }
   ],
   "source": [
    "data1[\"Label1\"] = data1[\"cond1\"]*data1[\"cond2\"]*data1[\"cond3\"]*data1[\"cond4\"]\n",
    "\n",
    "def combine(k):\n",
    "    if abs(k)==0:\n",
    "        return 'Red'\n",
    "    elif abs(k)>1:\n",
    "        return 'Amber'\n",
    "    elif abs(k)==1:\n",
    "        return 'Green'\n",
    "\n",
    "data1['Label'] = data1['Label1'].map(combine)\n",
    "\n",
    "data1.head()"
   ]
  },
  {
   "cell_type": "code",
   "execution_count": 9,
   "id": "8418d7d4",
   "metadata": {},
   "outputs": [
    {
     "data": {
      "text/html": [
       "<div>\n",
       "<style scoped>\n",
       "    .dataframe tbody tr th:only-of-type {\n",
       "        vertical-align: middle;\n",
       "    }\n",
       "\n",
       "    .dataframe tbody tr th {\n",
       "        vertical-align: top;\n",
       "    }\n",
       "\n",
       "    .dataframe thead th {\n",
       "        text-align: right;\n",
       "    }\n",
       "</style>\n",
       "<table border=\"1\" class=\"dataframe\">\n",
       "  <thead>\n",
       "    <tr style=\"text-align: right;\">\n",
       "      <th></th>\n",
       "      <th>pid</th>\n",
       "      <th>sbp</th>\n",
       "      <th>dbp</th>\n",
       "      <th>uf</th>\n",
       "      <th>conductivity</th>\n",
       "      <th>Label</th>\n",
       "    </tr>\n",
       "  </thead>\n",
       "  <tbody>\n",
       "    <tr>\n",
       "      <th>0</th>\n",
       "      <td>20782271.0</td>\n",
       "      <td>147.0</td>\n",
       "      <td>78.0</td>\n",
       "      <td>7.8</td>\n",
       "      <td>143.0</td>\n",
       "      <td>Amber</td>\n",
       "    </tr>\n",
       "    <tr>\n",
       "      <th>1</th>\n",
       "      <td>2254460.0</td>\n",
       "      <td>126.0</td>\n",
       "      <td>79.0</td>\n",
       "      <td>7.9</td>\n",
       "      <td>143.0</td>\n",
       "      <td>Green</td>\n",
       "    </tr>\n",
       "    <tr>\n",
       "      <th>2</th>\n",
       "      <td>8008815.0</td>\n",
       "      <td>150.0</td>\n",
       "      <td>76.0</td>\n",
       "      <td>7.6</td>\n",
       "      <td>140.0</td>\n",
       "      <td>Amber</td>\n",
       "    </tr>\n",
       "    <tr>\n",
       "      <th>3</th>\n",
       "      <td>6899774.0</td>\n",
       "      <td>130.0</td>\n",
       "      <td>71.0</td>\n",
       "      <td>7.1</td>\n",
       "      <td>143.0</td>\n",
       "      <td>Green</td>\n",
       "    </tr>\n",
       "    <tr>\n",
       "      <th>4</th>\n",
       "      <td>11003705.0</td>\n",
       "      <td>166.0</td>\n",
       "      <td>72.0</td>\n",
       "      <td>7.2</td>\n",
       "      <td>140.0</td>\n",
       "      <td>Red</td>\n",
       "    </tr>\n",
       "  </tbody>\n",
       "</table>\n",
       "</div>"
      ],
      "text/plain": [
       "          pid    sbp   dbp   uf  conductivity  Label\n",
       "0  20782271.0  147.0  78.0  7.8         143.0  Amber\n",
       "1   2254460.0  126.0  79.0  7.9         143.0  Green\n",
       "2   8008815.0  150.0  76.0  7.6         140.0  Amber\n",
       "3   6899774.0  130.0  71.0  7.1         143.0  Green\n",
       "4  11003705.0  166.0  72.0  7.2         140.0    Red"
      ]
     },
     "execution_count": 9,
     "metadata": {},
     "output_type": "execute_result"
    }
   ],
   "source": [
    "del data1[\"cond1\"]\n",
    "del data1[\"cond2\"]\n",
    "del data1[\"cond3\"]\n",
    "del data1[\"cond4\"]\n",
    "del data1[\"Label1\"]\n",
    "\n",
    "data1.head()"
   ]
  },
  {
   "cell_type": "code",
   "execution_count": 10,
   "id": "ff1a531c",
   "metadata": {},
   "outputs": [
    {
     "name": "stdout",
     "output_type": "stream",
     "text": [
      "                sbp           dbp            uf  conductivity\n",
      "count  18071.000000  18071.000000  18071.000000  18071.000000\n",
      "mean     126.799790     67.268441      6.726844    140.234962\n",
      "std       23.189766     12.400347      1.240035     11.516669\n",
      "min       49.000000      5.000000      0.500000      0.000000\n",
      "25%      109.000000     58.000000      5.800000    140.000000\n",
      "50%      127.000000     69.000000      6.900000    141.000000\n",
      "75%      144.000000     77.000000      7.700000    142.000000\n",
      "max      234.000000    163.000000     16.300000    150.000000\n",
      "     sbp   dbp   uf  conductivity\n",
      "0  147.0  78.0  7.8         143.0\n",
      "1  126.0  79.0  7.9         143.0\n",
      "2  150.0  76.0  7.6         140.0\n",
      "3  130.0  71.0  7.1         143.0\n",
      "4  166.0  72.0  7.2         140.0\n"
     ]
    }
   ],
   "source": [
    "y=data1.Label\n",
    "features=['sbp','dbp','uf','conductivity']\n",
    "X=data1[features]\n",
    "print(X.describe())\n",
    "print(X.head())"
   ]
  },
  {
   "cell_type": "code",
   "execution_count": 11,
   "id": "027216ae",
   "metadata": {},
   "outputs": [],
   "source": [
    "from sklearn.model_selection import train_test_split\n",
    "X_train,X_test,y_train,y_test = train_test_split(X,y,test_size = 0.33)"
   ]
  },
  {
   "cell_type": "markdown",
   "id": "4fa6a93a",
   "metadata": {},
   "source": [
    "LOGISTIC REGRESSION"
   ]
  },
  {
   "cell_type": "code",
   "execution_count": 12,
   "id": "f797e127",
   "metadata": {},
   "outputs": [
    {
     "name": "stdout",
     "output_type": "stream",
     "text": [
      "['Green' 'Red' 'Red' ... 'Red' 'Amber' 'Red']\n"
     ]
    }
   ],
   "source": [
    "from sklearn import linear_model\n",
    "from sklearn import metrics\n",
    "logreg = linear_model.LogisticRegression(max_iter=10000)\n",
    "logreg.fit(X_train, y_train)\n",
    "y_pred = logreg.predict(X_test)\n",
    "print(y_pred)"
   ]
  },
  {
   "cell_type": "code",
   "execution_count": 13,
   "id": "aac14240",
   "metadata": {},
   "outputs": [
    {
     "name": "stdout",
     "output_type": "stream",
     "text": [
      "Accuracy of Logistic Regression model is: 80.34875922199866\n"
     ]
    }
   ],
   "source": [
    "print(\"Accuracy of Logistic Regression model is:\",\n",
    "metrics.accuracy_score(y_test, y_pred)*100)"
   ]
  },
  {
   "cell_type": "markdown",
   "id": "9b1834b9",
   "metadata": {},
   "source": [
    "RANDOM FOREST CLASSIFIER"
   ]
  },
  {
   "cell_type": "code",
   "execution_count": 14,
   "id": "55ea3e5f",
   "metadata": {},
   "outputs": [
    {
     "data": {
      "text/html": [
       "<style>#sk-container-id-1 {color: black;background-color: white;}#sk-container-id-1 pre{padding: 0;}#sk-container-id-1 div.sk-toggleable {background-color: white;}#sk-container-id-1 label.sk-toggleable__label {cursor: pointer;display: block;width: 100%;margin-bottom: 0;padding: 0.3em;box-sizing: border-box;text-align: center;}#sk-container-id-1 label.sk-toggleable__label-arrow:before {content: \"▸\";float: left;margin-right: 0.25em;color: #696969;}#sk-container-id-1 label.sk-toggleable__label-arrow:hover:before {color: black;}#sk-container-id-1 div.sk-estimator:hover label.sk-toggleable__label-arrow:before {color: black;}#sk-container-id-1 div.sk-toggleable__content {max-height: 0;max-width: 0;overflow: hidden;text-align: left;background-color: #f0f8ff;}#sk-container-id-1 div.sk-toggleable__content pre {margin: 0.2em;color: black;border-radius: 0.25em;background-color: #f0f8ff;}#sk-container-id-1 input.sk-toggleable__control:checked~div.sk-toggleable__content {max-height: 200px;max-width: 100%;overflow: auto;}#sk-container-id-1 input.sk-toggleable__control:checked~label.sk-toggleable__label-arrow:before {content: \"▾\";}#sk-container-id-1 div.sk-estimator input.sk-toggleable__control:checked~label.sk-toggleable__label {background-color: #d4ebff;}#sk-container-id-1 div.sk-label input.sk-toggleable__control:checked~label.sk-toggleable__label {background-color: #d4ebff;}#sk-container-id-1 input.sk-hidden--visually {border: 0;clip: rect(1px 1px 1px 1px);clip: rect(1px, 1px, 1px, 1px);height: 1px;margin: -1px;overflow: hidden;padding: 0;position: absolute;width: 1px;}#sk-container-id-1 div.sk-estimator {font-family: monospace;background-color: #f0f8ff;border: 1px dotted black;border-radius: 0.25em;box-sizing: border-box;margin-bottom: 0.5em;}#sk-container-id-1 div.sk-estimator:hover {background-color: #d4ebff;}#sk-container-id-1 div.sk-parallel-item::after {content: \"\";width: 100%;border-bottom: 1px solid gray;flex-grow: 1;}#sk-container-id-1 div.sk-label:hover label.sk-toggleable__label {background-color: #d4ebff;}#sk-container-id-1 div.sk-serial::before {content: \"\";position: absolute;border-left: 1px solid gray;box-sizing: border-box;top: 0;bottom: 0;left: 50%;z-index: 0;}#sk-container-id-1 div.sk-serial {display: flex;flex-direction: column;align-items: center;background-color: white;padding-right: 0.2em;padding-left: 0.2em;position: relative;}#sk-container-id-1 div.sk-item {position: relative;z-index: 1;}#sk-container-id-1 div.sk-parallel {display: flex;align-items: stretch;justify-content: center;background-color: white;position: relative;}#sk-container-id-1 div.sk-item::before, #sk-container-id-1 div.sk-parallel-item::before {content: \"\";position: absolute;border-left: 1px solid gray;box-sizing: border-box;top: 0;bottom: 0;left: 50%;z-index: -1;}#sk-container-id-1 div.sk-parallel-item {display: flex;flex-direction: column;z-index: 1;position: relative;background-color: white;}#sk-container-id-1 div.sk-parallel-item:first-child::after {align-self: flex-end;width: 50%;}#sk-container-id-1 div.sk-parallel-item:last-child::after {align-self: flex-start;width: 50%;}#sk-container-id-1 div.sk-parallel-item:only-child::after {width: 0;}#sk-container-id-1 div.sk-dashed-wrapped {border: 1px dashed gray;margin: 0 0.4em 0.5em 0.4em;box-sizing: border-box;padding-bottom: 0.4em;background-color: white;}#sk-container-id-1 div.sk-label label {font-family: monospace;font-weight: bold;display: inline-block;line-height: 1.2em;}#sk-container-id-1 div.sk-label-container {text-align: center;}#sk-container-id-1 div.sk-container {/* jupyter's `normalize.less` sets `[hidden] { display: none; }` but bootstrap.min.css set `[hidden] { display: none !important; }` so we also need the `!important` here to be able to override the default hidden behavior on the sphinx rendered scikit-learn.org. See: https://github.com/scikit-learn/scikit-learn/issues/21755 */display: inline-block !important;position: relative;}#sk-container-id-1 div.sk-text-repr-fallback {display: none;}</style><div id=\"sk-container-id-1\" class=\"sk-top-container\"><div class=\"sk-text-repr-fallback\"><pre>RandomForestClassifier()</pre><b>In a Jupyter environment, please rerun this cell to show the HTML representation or trust the notebook. <br />On GitHub, the HTML representation is unable to render, please try loading this page with nbviewer.org.</b></div><div class=\"sk-container\" hidden><div class=\"sk-item\"><div class=\"sk-estimator sk-toggleable\"><input class=\"sk-toggleable__control sk-hidden--visually\" id=\"sk-estimator-id-1\" type=\"checkbox\" checked><label for=\"sk-estimator-id-1\" class=\"sk-toggleable__label sk-toggleable__label-arrow\">RandomForestClassifier</label><div class=\"sk-toggleable__content\"><pre>RandomForestClassifier()</pre></div></div></div></div></div>"
      ],
      "text/plain": [
       "RandomForestClassifier()"
      ]
     },
     "execution_count": 14,
     "metadata": {},
     "output_type": "execute_result"
    }
   ],
   "source": [
    "from sklearn.ensemble import RandomForestClassifier\n",
    "clf = RandomForestClassifier()\n",
    "clf.fit(X_train,y_train)"
   ]
  },
  {
   "cell_type": "code",
   "execution_count": 15,
   "id": "389b48bd",
   "metadata": {},
   "outputs": [
    {
     "name": "stdout",
     "output_type": "stream",
     "text": [
      "['Green' 'Amber' 'Red' ... 'Red' 'Amber' 'Red']\n"
     ]
    }
   ],
   "source": [
    "prediction = clf.predict(X_test)\n",
    "print(prediction)"
   ]
  },
  {
   "cell_type": "code",
   "execution_count": 16,
   "id": "92452383",
   "metadata": {},
   "outputs": [
    {
     "name": "stdout",
     "output_type": "stream",
     "text": [
      "Accuracy with Random Forest Classifier in %: 99.9832327297116\n"
     ]
    }
   ],
   "source": [
    "from sklearn.metrics import accuracy_score, confusion_matrix, classification_report\n",
    "rf=accuracy_score(y_test,prediction)\n",
    "print(\"Accuracy with Random Forest Classifier in %:\",rf*100)"
   ]
  },
  {
   "cell_type": "markdown",
   "id": "e6cd4653",
   "metadata": {},
   "source": [
    "NAIVE BAYES ALGORITHM"
   ]
  },
  {
   "cell_type": "code",
   "execution_count": 17,
   "id": "056a6d73",
   "metadata": {},
   "outputs": [
    {
     "name": "stdout",
     "output_type": "stream",
     "text": [
      "['Green' 'Green' 'Red' ... 'Red' 'Amber' 'Red']\n"
     ]
    }
   ],
   "source": [
    "from sklearn.naive_bayes import GaussianNB\n",
    "gnb = GaussianNB()\n",
    "gnb.fit(X_train, y_train)\n",
    "pred_naive = gnb.predict(X_test)\n",
    "print(pred_naive)"
   ]
  },
  {
   "cell_type": "code",
   "execution_count": 18,
   "id": "1747b4c9",
   "metadata": {},
   "outputs": [
    {
     "name": "stdout",
     "output_type": "stream",
     "text": [
      "Accuracy with Naive Bayes Algorithm in %: 87.39101274312542\n"
     ]
    }
   ],
   "source": [
    "gnbpred = accuracy_score(y_test, pred_naive)\n",
    "print('Accuracy with Naive Bayes Algorithm in %:',gnbpred*100)"
   ]
  },
  {
   "cell_type": "markdown",
   "id": "09d275e9",
   "metadata": {},
   "source": [
    "K NEIGHBORS CLASSIFIER"
   ]
  },
  {
   "cell_type": "code",
   "execution_count": 19,
   "id": "1140e2a8",
   "metadata": {},
   "outputs": [],
   "source": [
    "from sklearn.preprocessing import StandardScaler\n",
    "sc = StandardScaler()\n",
    "X_train = sc.fit_transform(X_train)\n",
    "X_test = sc.transform(X_test)"
   ]
  },
  {
   "cell_type": "code",
   "execution_count": 20,
   "id": "08dfcce9",
   "metadata": {},
   "outputs": [
    {
     "data": {
      "text/html": [
       "<style>#sk-container-id-2 {color: black;background-color: white;}#sk-container-id-2 pre{padding: 0;}#sk-container-id-2 div.sk-toggleable {background-color: white;}#sk-container-id-2 label.sk-toggleable__label {cursor: pointer;display: block;width: 100%;margin-bottom: 0;padding: 0.3em;box-sizing: border-box;text-align: center;}#sk-container-id-2 label.sk-toggleable__label-arrow:before {content: \"▸\";float: left;margin-right: 0.25em;color: #696969;}#sk-container-id-2 label.sk-toggleable__label-arrow:hover:before {color: black;}#sk-container-id-2 div.sk-estimator:hover label.sk-toggleable__label-arrow:before {color: black;}#sk-container-id-2 div.sk-toggleable__content {max-height: 0;max-width: 0;overflow: hidden;text-align: left;background-color: #f0f8ff;}#sk-container-id-2 div.sk-toggleable__content pre {margin: 0.2em;color: black;border-radius: 0.25em;background-color: #f0f8ff;}#sk-container-id-2 input.sk-toggleable__control:checked~div.sk-toggleable__content {max-height: 200px;max-width: 100%;overflow: auto;}#sk-container-id-2 input.sk-toggleable__control:checked~label.sk-toggleable__label-arrow:before {content: \"▾\";}#sk-container-id-2 div.sk-estimator input.sk-toggleable__control:checked~label.sk-toggleable__label {background-color: #d4ebff;}#sk-container-id-2 div.sk-label input.sk-toggleable__control:checked~label.sk-toggleable__label {background-color: #d4ebff;}#sk-container-id-2 input.sk-hidden--visually {border: 0;clip: rect(1px 1px 1px 1px);clip: rect(1px, 1px, 1px, 1px);height: 1px;margin: -1px;overflow: hidden;padding: 0;position: absolute;width: 1px;}#sk-container-id-2 div.sk-estimator {font-family: monospace;background-color: #f0f8ff;border: 1px dotted black;border-radius: 0.25em;box-sizing: border-box;margin-bottom: 0.5em;}#sk-container-id-2 div.sk-estimator:hover {background-color: #d4ebff;}#sk-container-id-2 div.sk-parallel-item::after {content: \"\";width: 100%;border-bottom: 1px solid gray;flex-grow: 1;}#sk-container-id-2 div.sk-label:hover label.sk-toggleable__label {background-color: #d4ebff;}#sk-container-id-2 div.sk-serial::before {content: \"\";position: absolute;border-left: 1px solid gray;box-sizing: border-box;top: 0;bottom: 0;left: 50%;z-index: 0;}#sk-container-id-2 div.sk-serial {display: flex;flex-direction: column;align-items: center;background-color: white;padding-right: 0.2em;padding-left: 0.2em;position: relative;}#sk-container-id-2 div.sk-item {position: relative;z-index: 1;}#sk-container-id-2 div.sk-parallel {display: flex;align-items: stretch;justify-content: center;background-color: white;position: relative;}#sk-container-id-2 div.sk-item::before, #sk-container-id-2 div.sk-parallel-item::before {content: \"\";position: absolute;border-left: 1px solid gray;box-sizing: border-box;top: 0;bottom: 0;left: 50%;z-index: -1;}#sk-container-id-2 div.sk-parallel-item {display: flex;flex-direction: column;z-index: 1;position: relative;background-color: white;}#sk-container-id-2 div.sk-parallel-item:first-child::after {align-self: flex-end;width: 50%;}#sk-container-id-2 div.sk-parallel-item:last-child::after {align-self: flex-start;width: 50%;}#sk-container-id-2 div.sk-parallel-item:only-child::after {width: 0;}#sk-container-id-2 div.sk-dashed-wrapped {border: 1px dashed gray;margin: 0 0.4em 0.5em 0.4em;box-sizing: border-box;padding-bottom: 0.4em;background-color: white;}#sk-container-id-2 div.sk-label label {font-family: monospace;font-weight: bold;display: inline-block;line-height: 1.2em;}#sk-container-id-2 div.sk-label-container {text-align: center;}#sk-container-id-2 div.sk-container {/* jupyter's `normalize.less` sets `[hidden] { display: none; }` but bootstrap.min.css set `[hidden] { display: none !important; }` so we also need the `!important` here to be able to override the default hidden behavior on the sphinx rendered scikit-learn.org. See: https://github.com/scikit-learn/scikit-learn/issues/21755 */display: inline-block !important;position: relative;}#sk-container-id-2 div.sk-text-repr-fallback {display: none;}</style><div id=\"sk-container-id-2\" class=\"sk-top-container\"><div class=\"sk-text-repr-fallback\"><pre>KNeighborsClassifier(n_neighbors=3)</pre><b>In a Jupyter environment, please rerun this cell to show the HTML representation or trust the notebook. <br />On GitHub, the HTML representation is unable to render, please try loading this page with nbviewer.org.</b></div><div class=\"sk-container\" hidden><div class=\"sk-item\"><div class=\"sk-estimator sk-toggleable\"><input class=\"sk-toggleable__control sk-hidden--visually\" id=\"sk-estimator-id-2\" type=\"checkbox\" checked><label for=\"sk-estimator-id-2\" class=\"sk-toggleable__label sk-toggleable__label-arrow\">KNeighborsClassifier</label><div class=\"sk-toggleable__content\"><pre>KNeighborsClassifier(n_neighbors=3)</pre></div></div></div></div></div>"
      ],
      "text/plain": [
       "KNeighborsClassifier(n_neighbors=3)"
      ]
     },
     "execution_count": 20,
     "metadata": {},
     "output_type": "execute_result"
    }
   ],
   "source": [
    "from sklearn.neighbors import KNeighborsClassifier\n",
    "classifier = KNeighborsClassifier(n_neighbors=3)\n",
    "classifier.fit(X_train, y_train)"
   ]
  },
  {
   "cell_type": "code",
   "execution_count": 21,
   "id": "e8c6a2fa",
   "metadata": {},
   "outputs": [
    {
     "name": "stdout",
     "output_type": "stream",
     "text": [
      "['Green' 'Amber' 'Red' ... 'Red' 'Amber' 'Red']\n"
     ]
    },
    {
     "name": "stderr",
     "output_type": "stream",
     "text": [
      "C:\\Users\\sayal\\AppData\\Local\\Programs\\Python\\Python39\\lib\\site-packages\\sklearn\\neighbors\\_classification.py:237: FutureWarning: Unlike other reduction functions (e.g. `skew`, `kurtosis`), the default behavior of `mode` typically preserves the axis it acts along. In SciPy 1.11.0, this behavior will change: the default value of `keepdims` will become False, the `axis` over which the statistic is taken will be eliminated, and the value None will no longer be accepted. Set `keepdims` to True or False to avoid this warning.\n",
      "  mode, _ = stats.mode(_y[neigh_ind, k], axis=1)\n"
     ]
    }
   ],
   "source": [
    "ypred = classifier.predict(X_test)\n",
    "print(ypred)"
   ]
  },
  {
   "cell_type": "code",
   "execution_count": 22,
   "id": "fe57a52f",
   "metadata": {},
   "outputs": [
    {
     "name": "stdout",
     "output_type": "stream",
     "text": [
      "Accuracy with KNN Algorithm in %: 99.26224010731053\n"
     ]
    }
   ],
   "source": [
    "cm = confusion_matrix(y_test, ypred)\n",
    "ac = accuracy_score(y_test, ypred)\n",
    "print('Accuracy with KNN Algorithm in %:',ac*100)"
   ]
  },
  {
   "cell_type": "markdown",
   "id": "eaf71a7b",
   "metadata": {},
   "source": [
    "SUPPORT VECTOR MACHINES"
   ]
  },
  {
   "cell_type": "code",
   "execution_count": 23,
   "id": "bb223334",
   "metadata": {},
   "outputs": [
    {
     "name": "stdout",
     "output_type": "stream",
     "text": [
      "['Green' 'Red' 'Red' ... 'Red' 'Amber' 'Red']\n"
     ]
    }
   ],
   "source": [
    "from sklearn import svm\n",
    "from sklearn.svm import LinearSVC\n",
    "svm= svm.SVC(kernel='linear')\n",
    "svm.fit(X_train, y_train)\n",
    "pred_svm = svm.predict(X_test)\n",
    "print(pred_svm)"
   ]
  },
  {
   "cell_type": "code",
   "execution_count": 24,
   "id": "52672038",
   "metadata": {},
   "outputs": [
    {
     "name": "stdout",
     "output_type": "stream",
     "text": [
      "Accuracy with Support Vector Machines in %: 84.38967136150235\n"
     ]
    }
   ],
   "source": [
    "acsvm = accuracy_score(y_test, pred_svm)\n",
    "print('Accuracy with Support Vector Machines in %:',acsvm*100)"
   ]
  }
 ],
 "metadata": {
  "kernelspec": {
   "display_name": "Python 3 (ipykernel)",
   "language": "python",
   "name": "python3"
  },
  "language_info": {
   "codemirror_mode": {
    "name": "ipython",
    "version": 3
   },
   "file_extension": ".py",
   "mimetype": "text/x-python",
   "name": "python",
   "nbconvert_exporter": "python",
   "pygments_lexer": "ipython3",
   "version": "3.9.2"
  }
 },
 "nbformat": 4,
 "nbformat_minor": 5
}
